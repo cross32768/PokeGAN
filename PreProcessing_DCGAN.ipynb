{
 "cells": [
  {
   "cell_type": "code",
   "execution_count": 2,
   "metadata": {
    "collapsed": true
   },
   "outputs": [],
   "source": [
    "from PIL import Image\n",
    "import numpy as np\n",
    "import os"
   ]
  },
  {
   "cell_type": "code",
   "execution_count": 12,
   "metadata": {},
   "outputs": [
    {
     "name": "stdout",
     "output_type": "stream",
     "text": [
      "N_data: 5850\n"
     ]
    }
   ],
   "source": [
    "''' 何度も実行しないこと\n",
    "# 画像の切り出し\n",
    "ORIGINAL_DATA = 'C:/Users/suzuk/OneDrive/デスクトップ/partner/partner'\n",
    "PROCESSED_DATA = 'processed_images/'\n",
    "if not os.path.exists(PROCESSED_DATA):\n",
    "    os.mkdir(PROCESSED_DATA)\n",
    "index = 0\n",
    "directories = os.listdir(ORIGINAL_DATA)\n",
    "for directory in directories:\n",
    "    files = os.listdir(ORIGINAL_DATA + '/' + directory)\n",
    "    for file in files:\n",
    "        if 'PNG' in file:\n",
    "            im = Image.open(ORIGINAL_DATA + '/' + directory + '/' + file)\n",
    "            im = im.crop((25,245,725,945))\n",
    "            im.save(PROCESSED_DATA + \"%04d.png\" % index)\n",
    "            index = index + 1\n",
    "print('N_data:', index)\n",
    "'''"
   ]
  },
  {
   "cell_type": "code",
   "execution_count": 14,
   "metadata": {},
   "outputs": [
    {
     "data": {
      "text/plain": [
       "\" 何度も実行しないこと\\n# 画像のリサイズ\\nPROCESSED_DATA = 'processed_images'\\nRESIZED_DATA_32 = 'resized_32_images/'\\nSIZE = 32\\nif not os.path.exists(RESIZED_DATA_32):\\n    os.mkdir(RESIZED_DATA_32)\\nfiles = os.listdir(PROCESSED_DATA)\\nfor file in files:\\n    im = Image.open(PROCESSED_DATA + '/' + file).convert('RGB').resize((SIZE,SIZE))\\n    im.save(RESIZED_DATA_32 + file)\\n\""
      ]
     },
     "execution_count": 14,
     "metadata": {},
     "output_type": "execute_result"
    }
   ],
   "source": [
    "''' 何度も実行しないこと\n",
    "# 画像のリサイズ\n",
    "PROCESSED_DATA = 'processed_images'\n",
    "RESIZED_DATA_32 = 'resized_32_images/'\n",
    "SIZE = 32\n",
    "if not os.path.exists(RESIZED_DATA_32):\n",
    "    os.mkdir(RESIZED_DATA_32)\n",
    "files = os.listdir(PROCESSED_DATA)\n",
    "for file in files:\n",
    "    im = Image.open(PROCESSED_DATA + '/' + file).convert('RGB').resize((SIZE,SIZE))\n",
    "    im.save(RESIZED_DATA_32 + file)\n",
    "'''"
   ]
  },
  {
   "cell_type": "code",
   "execution_count": 11,
   "metadata": {},
   "outputs": [
    {
     "data": {
      "text/plain": [
       "'IMG_4884.PNG'"
      ]
     },
     "execution_count": 11,
     "metadata": {},
     "output_type": "execute_result"
    }
   ],
   "source": [
    "os.listdir(ORIGINAL_DATA + '/' + directories[0])[3]"
   ]
  },
  {
   "cell_type": "code",
   "execution_count": 100,
   "metadata": {
    "collapsed": true
   },
   "outputs": [],
   "source": [
    "im2 = im.crop((25,245,725,945))"
   ]
  },
  {
   "cell_type": "code",
   "execution_count": 101,
   "metadata": {
    "collapsed": true
   },
   "outputs": [],
   "source": [
    "im2.show()"
   ]
  },
  {
   "cell_type": "code",
   "execution_count": null,
   "metadata": {
    "collapsed": true
   },
   "outputs": [],
   "source": []
  }
 ],
 "metadata": {
  "kernelspec": {
   "display_name": "Python 3",
   "language": "python",
   "name": "python3"
  },
  "language_info": {
   "codemirror_mode": {
    "name": "ipython",
    "version": 3
   },
   "file_extension": ".py",
   "mimetype": "text/x-python",
   "name": "python",
   "nbconvert_exporter": "python",
   "pygments_lexer": "ipython3",
   "version": "3.6.3"
  }
 },
 "nbformat": 4,
 "nbformat_minor": 2
}

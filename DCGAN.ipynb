{
 "cells": [
  {
   "cell_type": "code",
   "execution_count": 72,
   "metadata": {},
   "outputs": [],
   "source": [
    "from chainer import Chain, Variable, optimizers, iterators, serializers, training, cuda\n",
    "from chainer.training import extensions\n",
    "from chainer.datasets import mnist\n",
    "import chainer.functions as F\n",
    "import chainer.links as L\n",
    "import chainer\n",
    "\n",
    "import numpy as np\n",
    "import matplotlib.pyplot as plt\n",
    "from PIL import Image\n",
    "import os"
   ]
  },
  {
   "cell_type": "code",
   "execution_count": 86,
   "metadata": {},
   "outputs": [],
   "source": [
    "DIRNAME = 'resized_32_images/'\n",
    "SIZE = 32\n",
    "CHANNEL = 3\n",
    "files = os.listdir(DIRNAME)\n",
    "N_data = len(files)\n",
    "train_data = np.zeros((N_data, CHANNEL, SIZE, SIZE))\n",
    "for i,file in enumerate(files):\n",
    "    im = Image.open(DIRNAME + file)\n",
    "    train_data[i] = np.array(im).reshape(CHANNEL,SIZE,SIZE)\n",
    "train_data = (train_data - 127.5) / 127.5\n",
    "train_data = train_data.astype(np.float32)"
   ]
  },
  {
   "cell_type": "code",
   "execution_count": 87,
   "metadata": {},
   "outputs": [],
   "source": [
    "batchsize = 64\n",
    "dis_itr = iterators.SerialIterator(train_data, batchsize)\n",
    "initializer = chainer.initializers.HeNormal()"
   ]
  },
  {
   "cell_type": "code",
   "execution_count": 88,
   "metadata": {
    "collapsed": true
   },
   "outputs": [],
   "source": [
    "class Generator(Chain):\n",
    "    \n",
    "    def __init__(self):\n",
    "        super(Generator, self).__init__()\n",
    "        with self.init_scope():\n",
    "            self.fc1 = L.Linear(100, 1024, initialW = initializer)\n",
    "            self.fc2 = L.Linear(1024, 128 * 8 * 8, initialW = initializer)\n",
    "            self.dc3 = L.Deconvolution2D(128, 64, 4, 2, 1, initialW = initializer)\n",
    "            self.dc4 = L.Deconvolution2D(64, 3, 4, 2, 1, initialW = initializer)\n",
    "            \n",
    "            self.bn1 = L.BatchNormalization(1024)\n",
    "            self.bn2 = L.BatchNormalization(128 * 8 * 8)\n",
    "            self.bn3 = L.BatchNormalization((64, 16, 16))\n",
    "    def __call__(self, x):\n",
    "        h = F.relu(self.bn1(self.fc1(x)))\n",
    "        h = F.relu(self.bn2(self.fc2(h)))\n",
    "        h = F.reshape(h, (h.shape[0], 128, 8, 8))\n",
    "        h = F.relu(self.bn3(self.dc3(h)))\n",
    "        h = F.tanh(self.dc4(h))\n",
    "        return h"
   ]
  },
  {
   "cell_type": "code",
   "execution_count": 89,
   "metadata": {},
   "outputs": [],
   "source": [
    "class Discriminator(Chain):\n",
    "    \n",
    "    def __init__(self):\n",
    "        super(Discriminator, self).__init__()\n",
    "        with self.init_scope():\n",
    "            self.cv1 = L.Convolution2D(3, 64, 4, 2, initialW = initializer)\n",
    "            self.cv2 = L.Convolution2D(64, 128, 4, 2, initialW = initializer)\n",
    "            self.fc3 = L.Linear(None, 256, initialW = initializer)\n",
    "            self.fc4 = L.Linear(256, 2, initialW = initializer)\n",
    "\n",
    "    def __call__(self, x):\n",
    "        h = F.leaky_relu(self.cv1(x), 0.2)\n",
    "        h = F.leaky_relu(self.cv2(h), 0.2)\n",
    "        h = F.leaky_relu(self.fc3(h), 0.2)\n",
    "        h = F.dropout(h, 0.5)\n",
    "        h = self.fc4(h)\n",
    "        return h"
   ]
  },
  {
   "cell_type": "code",
   "execution_count": 92,
   "metadata": {},
   "outputs": [],
   "source": [
    "max_epoch = 20000\n",
    "GENERATED_IMAGE_PATH = 'generated_images/'\n",
    "if not os.path.exists(GENERATED_IMAGE_PATH):\n",
    "    os.mkdir(GENERATED_IMAGE_PATH)"
   ]
  },
  {
   "cell_type": "code",
   "execution_count": 94,
   "metadata": {},
   "outputs": [],
   "source": [
    "def train():\n",
    "    chainer.cuda.memory_pool.free_all_blocks()\n",
    "    \n",
    "    model_gen = Generator()\n",
    "    model_dis = Discriminator()\n",
    "    \n",
    "    opt_gen = optimizers.Adam(alpha = 2e-4, beta1 = 0.5)\n",
    "    opt_dis = optimizers.Adam(alpha = 2e-4, beta1 = 0.5)\n",
    "    opt_gen.setup(model_gen)\n",
    "    opt_dis.setup(model_dis)\n",
    "    opt_gen.add_hook(chainer.optimizer.WeightDecay(0.00001))\n",
    "    opt_dis.add_hook(chainer.optimizer.WeightDecay(0.00001))\n",
    "    \n",
    "    gpu_device = 0\n",
    "    cuda.get_device(gpu_device).use()\n",
    "    model_gen.to_gpu(gpu_device)\n",
    "    model_dis.to_gpu(gpu_device)\n",
    "    xp = cuda.cupy\n",
    "    \n",
    "    dis_itr.epoch = 0\n",
    "    while dis_itr.epoch < max_epoch:\n",
    "        real_images = xp.array(dis_itr.next())\n",
    "        y = model_dis(real_images)\n",
    "        loss_dis = F.softmax_cross_entropy(y, Variable(xp.zeros(batchsize).astype(np.int32)))\n",
    "        \n",
    "        noise = xp.array(np.random.uniform(-1, 1, (batchsize, 100)).astype(np.float32))\n",
    "        generated_images = model_gen(noise)\n",
    "        y = model_dis(generated_images)\n",
    "        \n",
    "        loss_dis += F.softmax_cross_entropy(y, Variable(xp.ones(batchsize).astype(np.int32)))\n",
    "        model_dis.cleargrads()\n",
    "        loss_dis.backward()\n",
    "        opt_dis.update()\n",
    "        \n",
    "        noise = xp.array(np.random.uniform(-1, 1, (batchsize, 100)).astype(np.float32))\n",
    "        y = model_dis(model_gen(noise))\n",
    "        loss_gen = F.softmax_cross_entropy(y, Variable(xp.zeros(batchsize).astype(np.int32)))\n",
    "        model_gen.cleargrads()\n",
    "        loss_gen.backward()\n",
    "        opt_gen.update()\n",
    "        \n",
    "        if dis_itr.is_new_epoch and dis_itr.epoch % 100 == 0:\n",
    "            print(\"epoch:\", dis_itr.epoch)\n",
    "            print(\"loss_dis:\", loss_dis, \"  loss_gen:\", loss_gen)\n",
    "            for n,image in enumerate(generated_images[:30]):\n",
    "                image = cuda.to_cpu(image.data)*127.5 + 127.5\n",
    "                Image.fromarray(image.astype(np.uint8).reshape(SIZE, SIZE, CHANNEL)) \\\n",
    "                                                      .save(GENERATED_IMAGE_PATH+\"%03d_%03d.png\" % (dis_itr.epoch, n))\n",
    "                    \n",
    "    MODEL_SAVE_DIR = 'DCGAN1'\n",
    "    if not os.path.exists(MODEL_SAVE_DIR):\n",
    "        os.mkdir(MODEL_SAVE_DIR)\n",
    "    serializers.save_hdf5(\"%s/dcgan_model_dis_%d.h5\"%(MODEL_SAVE_DIR, dis_itr.epoch), model_dis)\n",
    "    serializers.save_hdf5(\"%s/dcgan_model_gen_%d.h5\"%(MODEL_SAVE_DIR, dis_itr.epoch), model_gen)\n",
    "    serializers.save_hdf5(\"%s/dcgan_state_dis_%d.h5\"%(MODEL_SAVE_DIR, dis_itr.epoch), opt_dis)\n",
    "    serializers.save_hdf5(\"%s/dcgan_state_gen_%d.h5\"%(MODEL_SAVE_DIR, dis_itr.epoch), opt_gen)"
   ]
  },
  {
   "cell_type": "code",
   "execution_count": null,
   "metadata": {
    "scrolled": true
   },
   "outputs": [
    {
     "name": "stdout",
     "output_type": "stream",
     "text": [
      "epoch: 100\n",
      "loss_dis: variable(0.50066686)   loss_gen: variable(2.7657716)\n",
      "epoch: 200\n",
      "loss_dis: variable(0.38380182)   loss_gen: variable(1.9777774)\n"
     ]
    }
   ],
   "source": [
    "train()"
   ]
  },
  {
   "cell_type": "code",
   "execution_count": null,
   "metadata": {
    "collapsed": true
   },
   "outputs": [],
   "source": []
  }
 ],
 "metadata": {
  "kernelspec": {
   "display_name": "Python 3",
   "language": "python",
   "name": "python3"
  },
  "language_info": {
   "codemirror_mode": {
    "name": "ipython",
    "version": 3
   },
   "file_extension": ".py",
   "mimetype": "text/x-python",
   "name": "python",
   "nbconvert_exporter": "python",
   "pygments_lexer": "ipython3",
   "version": "3.6.3"
  }
 },
 "nbformat": 4,
 "nbformat_minor": 2
}
